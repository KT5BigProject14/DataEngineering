{
 "cells": [
  {
   "cell_type": "code",
   "execution_count": 2,
   "metadata": {},
   "outputs": [],
   "source": [
    "from langchain_openai import ChatOpenAI\n",
    "from langchain_core.messages import HumanMessage, SystemMessage\n",
    "from langchain_core.output_parsers import StrOutputParser\n",
    "from langchain_core.prompts import ChatPromptTemplate\n",
    "from langchain_community.document_loaders import PyPDFLoader\n",
    "from langchain_upstage import UpstageEmbeddings\n",
    "from langchain_upstage import ChatUpstage\n",
    "from langchain.document_loaders import PyPDFLoader, NotionDirectoryLoader\n",
    "from langchain_text_splitters import (\n",
    "    CharacterTextSplitter,\n",
    "    RecursiveCharacterTextSplitter,\n",
    ")\n",
    "from dotenv import load_dotenv\n",
    "load_dotenv()\n",
    "\n",
    "import getpass\n",
    "import os\n"
   ]
  },
  {
   "cell_type": "code",
   "execution_count": null,
   "metadata": {},
   "outputs": [],
   "source": []
  },
  {
   "cell_type": "code",
   "execution_count": 4,
   "metadata": {},
   "outputs": [
    {
     "name": "stdout",
     "output_type": "stream",
     "text": [
      "Hello! How can I assist you today?\n"
     ]
    }
   ],
   "source": [
    "\n",
    "# PDF 파일 경로 설정\n",
    "file_path = \"/Users/munseunghyeon/chris_news/[시장동향분석][한국농수산식품유통공사][2017]농유공_2017 농식품 해외시장 맞춤조사_(인도_개사료)_(20170707102802).pdf\"\n",
    "\n",
    "# PDF 로더 초기화\n",
    "loader = PyPDFLoader(file_path, extract_images=False)\n",
    "pages = loader.load()\n",
    "\n",
    "# 텍스트 분할기 초기화\n",
    "text_splitter = CharacterTextSplitter(\n",
    "    separator=\"\\n\", chunk_size=1000, chunk_overlap=150, length_function=len\n",
    ")\n",
    "docs = text_splitter.split_documents(pages)\n",
    "\n",
    "# LLM 초기화\n",
    "llm = ChatOpenAI(model=\"gpt-3.5-turbo\", temperature=0)\n",
    "# llm 모델을 가져와서 사용함\n",
    "chat = ChatUpstage(upstage_api_key = os.getenv(\"UPSTAGE_API_KEY\"))  \n",
    "\n",
    "\n",
    "# 시스템 프롬프트 설정\n",
    "contextualize_q_system_prompt = (\n",
    "    \"Given texts reformulate into a paragraph. \"\n",
    "    \"formulate a standalone question which can be understood \"\n",
    "    \"just reformulate it if needed and otherwise return it as is.\"\n",
    "    \"when you need more informations, don't ask just reformulate as much as you can\"\n",
    ")\n",
    "\n",
    "# 사용자 프롬프트 설정\n",
    "contextualize_q_prompt = ChatPromptTemplate.from_messages(\n",
    "    [\n",
    "        (\"system\", contextualize_q_system_prompt),\n",
    "        # (\"chat_history\", \"Here would be the chat history if needed\"),\n",
    "        (\"human\", \"{input}\"),\n",
    "    ]\n",
    ")\n",
    "parser = StrOutputParser()\n",
    "\n",
    "\n",
    "# 체인 생성\n",
    "chain = contextualize_q_prompt | chat | parser\n",
    "\n",
    "# 체인 호출 및 결과 출력\n",
    "result = chain.invoke({\"language\": \"korean\", \"input\": \"hi\"})\n",
    "print(result)\n"
   ]
  },
  {
   "cell_type": "code",
   "execution_count": 5,
   "metadata": {},
   "outputs": [],
   "source": [
    "import time\n",
    "\n",
    "target = ''\n",
    "summary_result = []\n",
    "\n",
    "for idx, text in enumerate(docs) :\n",
    "    target += text.page_content\n",
    "    if idx % 4  == 0 : \n",
    "        summary_result.append(chain.invoke(target))\n",
    "        \n"
   ]
  },
  {
   "cell_type": "code",
   "execution_count": 20,
   "metadata": {},
   "outputs": [
    {
     "data": {
      "text/plain": [
       "['2017년 농식품 해외시장 맞춤조사에서, 인도의 개사료 시장에 대한 정보를 제공하나요?',\n",
       " '인도에서 경쟁하는 개 사료 제품의 정량 분석, 정성 분석, 현지 방문 조사 자료는 어떻게 되나요?',\n",
       " '인도 개사료 시장의 2016년 기준 시장규모는 얼마인가요?',\n",
       " '2016년 기준 인도 내 HS CODE 2309.10.00 품목의 최대 수입국은 어디이며, 그 금액은 얼마인가요?',\n",
       " '인도 내 개사료 시장은 현재 어떤 상황인가요?',\n",
       " '인도 개사료 시장은 현재 규모가 작고 성장 속도가 느리지만, 반려견을 기르는 것에 대한 관심이 높아지고 있어 전망이 밝습니다. 인도에서는 매년 약 60만 마리의 반려견이 증가하고 있으며, 전체 인구 중 약 5%가 개를 기르고 있습니다. 이에 따라 애완동물 사료 및 관련 용품 시장의 성장이 예상됩니다. 특히, 최근에는 도시 부유층 사이에서 프리미엄 사료를 선호하는 소비자층이 증가하고 있습니다. 인도에서는 종교적 이유로 사료의 수입 절차가 까다로우므로, 수출업체는 항상 제품의 성분에 주의해야 합니다. 인도 정부는 사료의 원료가 되는 곡물의 공급을 위해 지속적인 재정 및 정책적 지원을 할 것으로 예상됩니다. 그러나, 인도에서는 아직 사료에 대한 법률이나 규칙이 명확하게 규정되어 있지 않습니다.',\n",
       " '제품명: Pedigree(성인) : 닭고기 & 채소(3kg)\\n제조사: Mars International India Pvt. Ltd.\\n유형: 현지산\\n100g 당 가격 (원): 276.25\\n중량 (g): 3000\\n유통기한 (개월): 12\\n포장형태: Bag\\n원료: 닭고기, 쌀, 옥수수, 대두박, 식물성 기름, 비트펄프, 소금, 미네랄, 비타민\\n원산지: 인도\\n\\n제품명: Pedigree(강아지) : 닭고기 & 우유(3kg)\\n제조사: Mars International India Pvt. Ltd.\\n유형: 현지산\\n100g 당 가격 (원): 276.25\\n중량 (g): 3000\\n유통기한 (개월): 12\\n포장형태: Bag\\n원료: 닭고기, 쌀, 옥수수, 대두박, 식물성 기름, 비트펄프, 우유, 소금, 미네랄, 비타민\\n원산지: 인도\\n\\n제품명: Pedigree(성인) : 고기 & 쌀(1.2kg)\\n제조사: Mars International India Pvt. Ltd.\\n유형: 현지산\\n100g 당 가격 (원): 357.26\\n중량 (g): 1200\\n유통기한 (개월): 12\\n포장형태: Bag\\n원료: 고기, 쌀, 옥수수, 대두박, 식물성 기름, 비트펄프, 소금, 미네랄, 비타민\\n원산지: 인도\\n\\n제품명: Pedigree(성인) : 닭고기 & 채소(1.2kg)\\n제조사: Mars International India Pvt. Ltd.\\n유형: 현지산\\n100g 당 가격 (원): 357.26\\n중량 (g): 1200\\n유통기한 (개월): 12\\n포장형태: Bag\\n원료: 닭고기, 쌀, 옥수수, 대두박, 식물성 기름, 비트펄프, 소금, 미네랄, 비타민\\n원산지: 인도\\n\\n제품명: Pedigree(강아지) : 닭고기 & 우유(1.2kg)\\n제조사: Mars International India Pvt. Ltd.\\n유형: 현지산\\n100g 당 가격 (원): 357.26\\n중량 (g): 1200\\n유통기한 (개월): 12\\n포장형태: Bag\\n원료: 닭고기, 쌀, 옥수수, 대두박, 식물성 기름, 비트펄프, 우유, 소금, 미네랄, 비타민\\n원산지: 인도\\n\\n제품명: Pedigree(강아지) : 닭고기 & 우유(6kg)\\n제조사: Mars International India Pvt. Ltd.\\n유형: 현지산\\n100g 당 가격 (원): 206.25\\n중량 (g): 6000\\n유통기한 (개월): 12\\n포장형태: Bag\\n원료: 닭고기, 쌀, 옥수수, 대두박, 식물성 기름, 비트펄프, 우유, 소금, 미네랄, 비타민\\n원산지: 인도\\n\\n제품명: Pedigree(성인) : 닭고기 & 채소(10kg)\\n제조사: Mars International India Pvt. Ltd.\\n유형: 현지산\\n100g 당 가격 (원): 176.25\\n중량 (g): 10000\\n유통기한 (개월): 12\\n포장형태: Bag\\n원료: 닭고기, 쌀, 옥수수, 대두박, 식물성 기름, 비트펄프, 소금, 미네랄, 비타민\\n원산지: 인도\\n\\n제품명: Pedigree(성인) : 고기 & 쌀(3kg)\\n제조사: Mars International India Pvt. Ltd.\\n유형: 현지산\\n100g 당 가격 (원): 276.25\\n중량 (g): 3000\\n유통기한 (개월): 12\\n포장형태: Bag\\n원료: 고기, 쌀, 옥수수, 대두박, 식물성 기름, 비트펄프, 소금, 미네랄, 비타민\\n원산지: 인도\\n\\n제품명: Glenand Chicken Treat Biscuit\\n제조사: Glenand Himalaya\\n유형: 현지산\\n100g 당 가격 (원): 375\\n중량 (g): 500\\n유통기한 (개월): 12\\n포장형태: Bag\\n원료: 닭고기, 쌀가루, 옥수수전분, 동물성 기름, 비트펄프, 소금, 미네랄, 비타민\\n원산지: 인도\\n\\n제품명: Glenand (DOG BISCUITS liver & meat)\\n제조사: Glenand Himalaya\\n유형: 현지산\\n100g 당 가격 (원): 375\\n중량 (g): 500\\n유통기한 (개월): 12\\n포장형태: Bag\\n원료: 간, 밀가루, 고기, 옥수수전분, 동물성 기름, 비트펄프, 소금, 미네랄, 비타민\\n원산지: 인도\\n\\n제품명: Healthy treats (Puppy)\\n제조사: Glenand Himalaya\\n유형: 현지산\\n100g 당 가격 (원): 375\\n중량 (g): 500\\n유통기한 (개월): 12\\n포장형태: Bag\\n원료: 닭고기, 쌀가루, 옥수수전분, 동물성 기름, 비트펄프, 소금, 미네랄, 비타민\\n원산지: 인도\\n\\n제품명: Healthy treats (Adult)\\n제조사: Glenand Himalaya\\n유형: 현지산\\n100g 당 가격 (원): 375\\n중량 (g): 500\\n유통기한 (개월): 12\\n포장형태: Bag\\n원료: 닭고기, 쌀가루, 옥수수전분, 동물성 기름, 비트펄프, 소금, 미네랄, 비타민\\n원산지: 인도\\n\\n제품명: Healthy treats (Senior)\\n제조사: Glenand Himalaya\\n유형: 현지산\\n100g 당 가격 (원): 375\\n중량 (g): 500\\n유통기한 (개월): 12\\n포장형태: Bag\\n원료: 닭고기, 쌀가루, 옥수수전분, 동물성 기름, 비트펄프, 소금, 미네랄, 비타민\\n원산지: 인도',\n",
       " '인도 현지 유통매장 방문을 통해 조사된 제품의 기본 스펙 및 취급업체 정보를 다음과 같이 제공함. 조사된 모든 제품의 제조국가가 인도로 동일하게 도출되어 상세 스펙에서 제조국가 표기는 생략함.\\n\\n제품 #05 제품 #06\\n\\n제품 이미지앞면\\n뒷면\\n제\\n품\\n스\\n펙업체명 Mars International India Pvt. Ltd., Mars International India Pvt. Ltd.,\\n제품명 Pedigree(Puppy) : Chicken & Milk(1.2kg) Pedigree(Puppy) : Chicken & Milk(6kg)\\n용량(g) 1,200 6,000\\n가격\\n(루피)210 960\\n포장형태 플라스틱 파우치 플라스틱 파우치\\n원료곡물 및 곡류 부산물, 육류 및 육류 부산물, \\n닭고기 및 닭고기 부산물, 야채 및 야채 부산물, \\n식물성 유지, 분유, 요오드화 소금, \\n비타민 및 미네랄, 방부제, 항산화제, \\n향료곡물 및 곡류 부산물, 육류 및 육류 부산물, \\n닭고기 및 닭고기 부산물, 야채 및 야채 부산물, \\n식물성 유지, 분유, 요오드화 소금, \\n비타민 및 미네랄, 방부제, 항산화제, \\n향료\\n유통기한\\n(개월)12 12\\n취\\n급\\n처판매확인\\n매장Big bazaar Spencer’s Hyper Store\\n제품 #07 제품 #08\\n\\n제품 이미지앞면\\n뒷면\\n제\\n품\\n스\\n펙업체명 Mars International India Pvt. Ltd., Mars International India Pvt. Ltd.,\\n제품명 Pedigree(Adult) : Chicken & Vegetables(10kg) Pedigree(Adult) : Meat & Rice(3kg)\\n용량(g) 10,000 3,000\\n가격\\n(루피)1,770 400\\n포장형태 플라스틱 파우치 플라스틱 파우치\\n원료곡물 및 곡류 부산물, 육류 및 육류 부산물, \\n닭고기 및 닭고기 부산물, 야채 및 야채 부산물, \\n식물성 유지, 요오드화 소금, 비타민 및 \\n미네랄, 방부제, 항산화제, 향료곡물 및 곡류 부산물, 육류 및 육류 부산물, \\n야채 및 야채 부산물, 식물성 유지, 요오드화 \\n소금, 비타민 및 미네랄, 방부제, 항산화제, \\n향료\\n유통기한\\n(개월)12 12\\n취\\n급\\n처판매확인\\n매장Big bazaar Spencer’s Hyper Store\\n제품 #09 제품 #10\\n\\n제품 이미지앞면\\n뒷면\\n제\\n품\\n스\\n펙업체명 GLENAND Himalaya GLENAND Himalaya\\n제품명 GLENAND CHICKEN TREAT BISCUITS GLENAND (DOG BISCUITS liver & meat)\\n용량(g) 150 1kg\\n가격\\n(루피)110 180\\n포장형태 플라스틱 파우치 플라스틱 파우치',\n",
       " '인도에서 유통되는 개 사료 제품의 가격은 얼마인가요?\\n\\n인도에서 유통되는 개 사료 제품의 100g당 평균 가격은 408.4원입니다.',\n",
       " \"인도 개사료 시장 분석을 위한 경쟁사 선정 및 분석 개요입니다. 시장 점유율 상위 기업, 온라인 및 오프라인 매장 조사를 통해 Mars, Incorporated, Hill's Pet Nutrition, Farmina 세 개의 글로벌 기업을 도출하였습니다. 이 기업들은 각각 초콜릿 바, 캔디, 스낵, 음료, 애완동물 사료, 개와 고양이 사료, 개와 고양이 사료 등을 취급하고 있습니다. 이 기업들은 가족 이미지, 안전한 신뢰도 높은 기업, 건강한 먹이로 행복을 제공하는 등의 홍보 전략을 사용하고 있습니다.\",\n",
       " \"개사료(Dog Food) 제품을 대상으로 인도(India) 시장에 대한 맞춤형 조사 보고서를 작성하였습니다. 보고서는 시장 통계, 시장 트렌드, 경쟁 제품 현지 조사, 경쟁사 분석, 유통 구조, 라벨링 정보, 위생 요건 정보 등 다양한 측면을 다루고 있습니다.\\n\\n보고서에 따르면, 2016년 기준 인도의 개사료 시장 규모는 5,708만 달러이며, 2012년부터 2016년까지 연평균 성장률 4.72%를 보였습니다. 인도 내 애완견 수는 지속적으로 증가하고 있으며, 신흥 경제 대국으로서 애완견 사료 및 간식 시장, 애견샵, 동물 병원 등의 수요가 증가할 것으로 예상됩니다.\\n\\n인도 개사료 시장은 아직 작은 규모로, 수입량이 많지 않습니다. 보통 미국, 벨기에, 영국, 이탈리아 등에서 제품을 직수입하여 재포장하여 국내 시장에 유통됩니다. Mars, Incorporated 회사의 Royal Canin, Pedigree 브랜드 제품이 판매율이 높습니다.\\n\\n인도의 주요 유통 채널은 키라나(Kirana)라는 소형 상점이었지만, 최근에는 온라인 쇼핑몰을 이용하는 소비자가 증가하고 있습니다. 인도 내 인기 온라인 쇼핑몰 10곳 중 6곳은 개사료 제품을 취급하고 있습니다.\\n\\n인도의 사료 성분 수입 절차는 종교적인 문제로 인해 까다롭습니다. 소고기 및 버팔로 고기는 수입이 금지되어 있으며, 양고기는 호주와 뉴질랜드산만 수입이 가능합니다.\\n\\n인도 정부는 사료의 주요 원료인 옥수수의 단위 수확량을 증가시켜 사료 생산을 증대시키기 위한 정책을 제시하고 있습니다. 그러나 애완동물 사료에 대한 법률이 아직 발의되거나 제정되지 않았습니다.\\n\\n경쟁 제품 현지 조사 결과, 인도 내 유통 중인 개사료 제품의 100g당 평균 가격은 408.4원으로 나타났습니다. 제품들은 대부분 플라스틱 포장재를 사용하며, 원료로는 닭고기가 많이 사용됩니다.\\n\\n경쟁사 분석에 따르면, Mars, Incorporated, Hill's Pet Nutrition, Farmina 등이 주요 경쟁사로 꼽힙니다. Mars, Incorporated은 1911년에 설립된 글로벌 기업으로, 인도에 법인을 설립하고 현지에서 제품을 생산하고 있습니다. 로얄캐닌, 페디그리 등의 브랜드와 제품이 있으며, 현지 조사 매장에서도 가장 많이 판매되고 있습니다.\\n\\n보고서는 인도 개사료 시장에 대한 유용한 정보를 제공하며, 시장 동향과 경쟁 구도를 파악하는 데 도움이 될 것입니다.\",\n",
       " '인도의 개 사료 시장에 대한 해외 시장 맞춤형 조사 보고서에 포함된 내용은 무엇인가요?',\n",
       " \"인도에서 개사료를 유통하기 위한 추천 진출 경로는 다음과 같습니다:\\n\\n1. 하이퍼마켓: 하이퍼마켓은 인도 소비자들에게 편리하고 인기 있는 유통 채널입니다. 다양한 제품을 합리적인 가격에 제공하며, 많은 소비자들이 이용합니다. 현지방문조사와 온라인 조사를 통해 Big Bazaar, Reliance Smart, Spencer's Hyper 등의 하이퍼마켓에서 개사료 제품이 판매되고 있음을 확인했습니다.\\n2. 백화점: 인도의 백화점은 대도시에 위치한 중산층과 상류층을 대상으로 합니다. 의류, 액세서리, 가구, 장난감, 화장품, 가전제품 등 다양한 프리미엄 제품을 판매하며, 수입 제품과 해외 브랜드에 대한 수요가 증가하고 있습니다.\\n3. 온라인 유통 채널: 인도의 온라인 유통시장은 급속하게 성장하고 있습니다. 다양한 제품을 편리하게 구매할 수 있는 온라인 쇼핑몰의 인기가 높아지고 있습니다. Ebay, Amazon, Flipkart, Snapdeal 등의 온라인 B2C 사이트에서 개사료 제품이 판매되고 있음을 확인했습니다.\",\n",
       " '2017년에 인도에서 개사료 시장의 통계와 동향에 대한 정보가 있나요?',\n",
       " '빅 바자르는 퓨처 그룹의 계열사로, 식품, 패션, 생활용품을 판매하는 하이퍼마켓입니다. 전국에 218개의 점포를 보유하고 있으며, 현대적 복합소매점 1위로 시장점유율 32.1%를 차지하고 있습니다. 매장 내 ATM을 통해 직불카드로 현금 인출이 가능하며, 다양한 세일 프로모션을 진행하고 있습니다.',\n",
       " '인도에서의 통관 및 검역 절차, 관세율 정보, FTA 정보, 통관 및 검역 유의사항 등을 조사하였습니다. 인도의 관세청은 Central Board of Excise & Customs (CBEC)이며, 인도의 통관 절차는 수입신고, 수입허가, 납부, 통관 등의 단계로 이루어집니다. 수입품에 대한 관세율은 품목에 따라 다르며, FTA 정보와 통관 및 검역 유의사항도 조사하였습니다.',\n",
       " \"통관 및 검역 정보\\n\\n인도 통관 검역 절차도\\n\\n물품 신고 전 서류 준비\\n물품 도착 전 세관 통보\\n수입 신고 및 가격 신고\\n수입 신고 완료\\n서류 심사\\n채널별 심사 및 물품 심사\\n관세 납부\\n통관 완료\\n화물 출고\\n불가 물품 수령증 발급\\n세관으로 소유권 이전\\n물품 반출\\n\\n통관절차별 유의사항\\n\\n물품 도착 및 수입 신고 전 준비\\n수입자의 경우 사전에 수입물품 통관을 위한 허가 및 인증 구비 필요\\n수입신고 서류상에 오류발생 시 정보 수정이 어렵기 때문에 서류 작성에 유의\\n\\n수입신고 및 가격신고\\nEDI(Electronic Data Interchange)를 통해 수입신고서 세관 전송\\nHS코드에 따라 특혜관세, 원산지결정기준이 결정되므로 품목 번호 확인에 유의\\n\\n물품 검사 및 통관심사\\n서류심사는 물품의 금지·제한 여부, 적하목록과 수입신고서 내역의 일치 여부, 신고가격의 적절 여부를 중점적으로 심사\\n물품검사는 무작위로 선별된 물품에 대해서만 실물검사를 실시\\nGreen Channel facility 제도 하에서 주요 우량·성실 수입자를 Green Channel로 분류하여 수입통관 시 물품검사를 면제함\\n\\n관세 납부 및 물품 반출\\n별도의 관세평가관이 화물검사 후 관세율을 확정함\\n세관별로 관세납부은행이 상이하므로 납부 전에 은행이름과 지점 확인 필수\\n물품에 이상이 없을 시 통관 승인 완료\\n\\n인도 관세율 정보\\n\\n2017년 인도 관세율 정보\\n\\n인도 기타 관세 정보\\n인도의 경우 수입물품에 일반적인 관세 외에 특별부가관세 4%, 교육세 3%가 부과되고 있음\\n\\n인도 CEPA 협정세율 정보\\n양허유형 'SEN'에 해당되어 협정세율 18%\\n\\n제품 관세율 확인법\\n관세청 '관세법령정보포털 3.0'을 확인하거나, FTA 세율의 경우 한국무역협회 'TradeNavi(www.tradenavi.or.kr)'의 'FTA/ 관세' 메뉴를 활용하여 관세율을 조회할 수 있음. 인도 사이트의 경우 인도 관세청의 관세율 조회 서비스를 통해 조회가 가능함\",\n",
       " '인도에서 개사료 수입을 위한 통관 및 검역 절차에는 여러 단계가 필요합니다. 먼저, 수입자는 인도상공부 무역국(DGFT; Director General of Foreign Trade)으로부터 수출입자코드(Importer-Exporter Code)를 발급받아야 합니다. 이후, 적하목록(IGM, Import General Menifest)을 제출해야 하며, 해상·항공 운송일 경우 선박 또는 항공기가 도착지에 도착하기 전에, 육상 운송일 경우 도착지에 도착 후 12시간 이내에 제출해야 합니다. 적하목록 미제출 시 화물을 운송수단으로부터 양하할 수 없습니다.\\n\\n수입자는 적하목록 제출 후, 관할 세관에 수입신고서와 관련 서류를 제출하여 물품에 대한 수입신고를 합니다. EDI(Electronic Data Interchange)를 통한 신고는 ICEGATE를 통해 전자적 방법으로 신고하는 것이고, EDI를 통하지 않은 신고는 수입신고서 4부를 준비하여 2부는 세관에, 1부는 거래은행에 제출하고, 1부는 수입자가 보관해야 합니다. 수입신고서는 송장(Signed Invoice), 포장명세서(Packing List), 선하증권 또는 화물인도지시서/항공화물운송장(Bill of Lading or Delivery Order/Airway Bill), 필요한 경우 물품 관련 수입 라이센스, 필요한 경우 신용장/환어음, 보험서류(Insurance document), 화학물질의 경우 검사보고서, 특혜세율을 적용 받는 경우 원산지 증명서(Certificate of Origin) 등의 서류를 수반해야 합니다.\\n\\n가격 신고는 2011년부터 원칙적으로 납세자가 스스로 세액을 신고·납부 후 세관 당국이 신고한 내용을 확인하는 `Self-assessment`로 이루어집니다. 수입신고자는 수입신고서를 제출하는 때에 수입물품에 대한 품목분류·적용 관세율·과세표준·관세 감면 여부를 결정하여 가격을 신고합니다. 가격 신고는 전자적으로 이루어지며, EDI를 통한 신고는 ICEGATE를 통해, EDI를 통하지 않은 신고는 수입신고서에 가격을 기재하여 제출합니다.\\n\\n서류심사는 수입신고 된 물품이 수입금지품 또는 제한품목에 해당하는지 여부, 운송인이 제출한 적하목록과 수입 신고인이 제출한 수입신고서 내 상세 품목 내역이 정확히 일치하는지 여부, 신고된 가격이 적절한 방법으로 결정되었는지에 대한 여부를 중점적으로 심사됩니다. 세관 당국은 심사 후 이상이 없다고 인정되는 경우 제출 받은 수입신고서 중 1부를 수입 신고인에게 반송합니다.\\n\\n물품검사는 수입신고된 물품에 대하여 전체를 실물검사 하는 것이 원칙이지만 대부분은 서류 심사에 의하고 무작위로 선별된 물품에 대하여만 수입신고서 내 상세설명과 일치한 지 여부를 실물 검사합니다. Green Channel facility제도에 의하여 주요 우량·성실 수입자를 Green Channel로 분류하여 수입통관 시 물품검사를 면제합니다.\\n\\n관세납부는 수입신고서 제출 후 5일 이내에 납부해야 합니다. 인도는 관할 세관마다 지정한 은행의 이름과 지점명이 다르므로 납부 시 유의해야 합니다. 수입신고가 적절히 이루어지고, 관세가 올바른 방법으로 결정되어 납부되면 수입물품에 대한 통관이 완료됩니다.\\n\\n통관 관련 유의사항은 수입 신고 전 필수적으로 인도상공부 무역국(DGFT; Director General of Foreign Trade)으로부터 수출입자코드(Importer-Exporter Code)를 발급받아야 하고, 적하목록(IGM, Import General Menifest)을 제출해야 합니다. EDI(Electronic Data Interchange)를 통한 신고는 ICEGATE를 통해 전자적 방법으로 신고하는 것이고, EDI를 통하지 않은 신고는 수입신고서 4부를 준비하여 2부는 세관에, 1부는 거래은행에 제출하고, 1부는 수입자가 보관해야 합니다. 수입신고서는 송장(Signed Invoice), 포장명세서(Packing List), 선하증권 또는 화물인도지시서/항공화물운송장(Bill of Lading or Delivery Order/Airway Bill), 필요한 경우 물품 관련 수입 라이센스, 필요한 경우 신용장/환어음, 보험서류(Insurance document), 화학물질의 경우 검사보고서, 특혜세율을 적용 받는 경우 원산지 증명서(Certificate of Origin) 등의 서류를 수반해야 합니다.\\n\\n인도 관세청은 수입업체가 성실하게 신고를 제출하는 경우, Green Channel을 통해 수입통관을 신속하게 처리할 수 있는 제도를 운영하고 있습니다. Green Channel을 이용하려면, 수입업체는 수입신고서 제출 시, 수입물품에 대한 정확한 정보를 제공해야 하며, 수입물품에 대한 검사가 필요한 경우, 검사를 받을 수 있어야 합니다.\\n\\n인도 관세청은 수입업체가 성실하게 신고를 제출하는 경우, Green Channel을 통해 수입통관을 신속하게 처리할 수 있는 제도를 운영하고 있습니다. Green Channel을 이용하려면, 수입업체는 수입신고서 제출 시, 수입물품에 대한 정확한 정보를 제공해야 하며, 수입물품에 대한 검사가 필요한 경우, 검사를 받을 수 있어야 합니다.\\n\\n인도 관세청은 수입업체가 성실하게 신고를 제출하는 경우, Green Channel을 통해 수입통관을 신속하게 처리할 수 있는 제도를 운영하고 있습니다. Green Channel을 이용하려면, 수입업체는 수입신고서 제출 시, 수입물품에 대한 정확한 정보를 제공해야 하며, 수입물품에 대한 검사가 필요한 경우, 검사를 받을 수 있어야 합니다.\\n\\n인도 관세청은 수입업체가 성실하게 신고를 제출하는 경우, Green Channel을 통해 수입통관을 신속하게 처리할 수 있는 제도를 운영하고 있습니다. Green Channel을 이용하려면, 수입업체는 수입신고서 제출 시, 수입물품에 대한 정확한 정보를 제공해야 하며, 수입물품에 대한 검사가 필요한 경우, 검사를 받을 수 있어야 합니다.',\n",
       " '인도에서 할랄 인증을 취득하려면 Halal India Private Limited 또는 Halal Certification Services India Private Limited 기관에 문의하시면 됩니다. 이 두 기관은 인도에서 할랄 인증을 발급하는 대표적인 기관 중 하나입니다. 할랄 인증은 이슬람 교도들이 섭취할 수 있는 안전한 식품임을 보장하는 인증으로, 인도에서 사료 제품을 판매하고자 할 때 유용할 수 있습니다. 할랄 인증을 취득하기 위해서는 해당 기관의 요구사항과 절차를 준수해야 하며, 필요한 서류와 정보를 제출해야 합니다. 자세한 내용은 해당 기관에 문의하여 확인하실 수 있습니다.',\n",
       " '인도 국립인증센터(NCHC)에서 발급하는 HACCP 인증을 받기 위해서는 다음과 같은 서류를 제출해야 합니다.\\n\\n1. HACCP 인증 신청서: 기본적인 회사 정보와 제품 정보를 기재해야 합니다.\\n2. GMP-GHP 준수 여부: 해당 제조품목에 맞게 답변을 기재해야 합니다.\\n3. 부칙 IV에 따른 요구사항: 해당 제조품목에 맞게 답변을 기재해야 합니다.\\n4. 공장 도면: 제조공정의 흐름을 이해할 수 있는 공장 도면을 제출해야 합니다.\\n5. 장비 및 기계의 세부 스펙: 제조에 사용되는 장비 및 기계의 세부 스펙을 제출해야 합니다.\\n6. 용수 분석 보고서: 제조에 사용되는 용수의 안전성을 확인할 수 있는 보고서를 제출해야 합니다.\\n7. 원재료의 FSMS 인증서: 원재료의 안전성을 확인할 수 있는 인증서를 제출해야 합니다.\\n8. 안정성 및 성분 인증서: 제조되는 제품의 안정성과 성분을 확인할 수 있는 인증서를 제출해야 합니다.\\n9. 생산자 정보: 제조되는 제품의 생산자에 대한 정보를 제출해야 합니다.\\n10. 명의자: 제조되는 제품의 명의자에 대한 정보를 제출해야 합니다.\\n11. 연간 매출액 및 연차보고서: 제조되는 제품의 연간 매출액과 연차보고서를 제출해야 합니다.\\n\\n위의 서류를 제출하면 NCHC에서 서류 심사, 현지 확인 및 심사를 거친 후 인증서를 발급합니다. 인증 수수료는 제조품목에 따라 다르며, 인증 신청 시 함께 제출해야 합니다.',\n",
       " '인도에서 개 사료를 수출할 때 필수적으로 요구되는 인증은 현재 없습니다. 그러나 사료의 원료에 육류가 포함되어 있다면 검역과정에서 추가적인 요구사항이 있을 수 있습니다. 인도에 개 사료를 수출할 때 필수 인증은 없지만, HACCP 인증과 할랄 인증을 취득하는 것이 권장됩니다. 이러한 인증을 취득하면 소비자에게 더 큰 신뢰를 줄 수 있어 판매에 도움이 될 것으로 예상됩니다.',\n",
       " '인도에서 개 사료를 유통하기 위해서는, 개 사료와 관련된 모든 인증과 규정을 준수해야 합니다. 필수적으로 요구되는 인증은 없지만, HACCP, 할랄 인증 등을 취득하면 소비자들에게 더욱 신뢰를 줄 수 있습니다. 라벨링은 인도 법규에 따라 제품명, 성분, 유통기한, 제조사 정보 등을 명확히 표기해야 합니다. 통관 및 검역 절차와 관련된 유의사항을 숙지해야 하며, 유제품, 육류, 곡류 등의 원재료에 대한 수입 위생 허가증을 취득해야 합니다.',\n",
       " \"19. 인도 가공식품 식품첨가물 규정:\\n인도의 식품첨가물은 인도 정부의 식품안전기준청 (FSSAI, Food Safety and Standards Authority of India)에서 발행한 '2011년 식품 안전 기준' 법규를 준수합니다. 식품첨가물 규정은 'Food Safety and Standards Regulation, 2011'이며, 이 규정은 식품안전기준청 홈페이지에서 확인 가능합니다.\\n\\n방부제 규정:\\n인도 식품안전기준청 (FSSAI)은 방부제에 대한 규정을 발표했습니다. 방부제는 2가지 종류로 구분됩니다. 1종에 속하는 방부제는 특정한 규정이 없는 한 사용에 제한이 없으며, 일반 소금, 설탕, 덱스트로스, 포도당 시럽, 향신료, 꿀 등이 이에 속합니다. 2종에 속하는 방부제는 음식에 직접적으로 사용될 수 없으며, 사용이 엄격하게 규정되어 있습니다. 이에 속하는 종류로는 벤조산 나트륨, 아황산 나트륨, 질산염, 나이신, 이초산나트륨 등이 있습니다.\",\n",
       " \"인도 개사료 시장의 개요를 알려주세요.\\n\\n인도 개사료 시장은 아직은 협소한 수준이지만, 인도 내 반려견 수가 증가하고 도시 부유층 사이에서 프리미엄 사료를 선호하는 소비자층이 늘어나고 있어 전망이 밝습니다. 인도의 개사료 수입량은 꾸준히 상승하고 있지만, 현지조사 결과 수입산 제품이 유통되지 않은 것으로 확인되었습니다. 인도 개사료 시장에서 주요 경쟁업체로는 Mars, Incorporated, Hill's Pet Nutrition, Farmina 등이 있습니다. 인도 내에서는 힌두교도와 무슬림이 인구의 90% 이상을 차지하기 때문에 사료 성분 면에서 수입 절차가 까다로우며, 소고기 및 버팔로 고기는 수입을 금지하고 있습니다.\"]"
      ]
     },
     "execution_count": 20,
     "metadata": {},
     "output_type": "execute_result"
    }
   ],
   "source": [
    "summary_result"
   ]
  },
  {
   "cell_type": "code",
   "execution_count": null,
   "metadata": {},
   "outputs": [],
   "source": []
  }
 ],
 "metadata": {
  "kernelspec": {
   "display_name": "qa_system",
   "language": "python",
   "name": "python3"
  },
  "language_info": {
   "codemirror_mode": {
    "name": "ipython",
    "version": 3
   },
   "file_extension": ".py",
   "mimetype": "text/x-python",
   "name": "python",
   "nbconvert_exporter": "python",
   "pygments_lexer": "ipython3",
   "version": "3.11.9"
  }
 },
 "nbformat": 4,
 "nbformat_minor": 2
}
