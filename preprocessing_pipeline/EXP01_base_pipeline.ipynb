{
 "cells": [
  {
   "cell_type": "code",
   "execution_count": 15,
   "metadata": {},
   "outputs": [],
   "source": [
    "from langchain_openai import ChatOpenAI\n",
    "from langchain_core.messages import HumanMessage, SystemMessage\n",
    "from langchain_core.output_parsers import StrOutputParser\n",
    "from langchain_core.prompts import ChatPromptTemplate\n",
    "from langchain_community.document_loaders import PyPDFLoader\n",
    "from langchain_upstage import UpstageEmbeddings\n",
    "from langchain_upstage import ChatUpstage\n",
    "from langchain.document_loaders import PyPDFLoader, NotionDirectoryLoader\n",
    "from langchain_text_splitters import (\n",
    "    CharacterTextSplitter,\n",
    "    RecursiveCharacterTextSplitter,\n",
    ")\n",
    "\n",
    "\n",
    "\n",
    "from dotenv import load_dotenv\n",
    "load_dotenv()\n",
    "\n",
    "import getpass\n",
    "import os\n",
    "\n"
   ]
  },
  {
   "cell_type": "code",
   "execution_count": 19,
   "metadata": {},
   "outputs": [
    {
     "name": "stdout",
     "output_type": "stream",
     "text": [
      "/Users/munseunghyeon/Downloads/big_project/drive-download-20240702T074649Z-001/2. 경제 및 시장 분석/[한·인도 경제관계][인도대사관][2023-07-28] 최근 인도 경제동향 (2023년 상반기).pdf\n",
      "/Users/munseunghyeon/Downloads/big_project/drive-download-20240702T074649Z-001/2. 경제 및 시장 분석/[한·인도 경제관계][인도대사관][2023-12-05] 주요광물 광산의 최초 온라인 경매 개시.pdf\n",
      "/Users/munseunghyeon/Downloads/big_project/drive-download-20240702T074649Z-001/2. 경제 및 시장 분석/[한·인도 경제관계][인도대사관][2023-08-09] 한-인도 경제관계 동향 (2023년 상반기).pdf\n",
      "/Users/munseunghyeon/Downloads/big_project/drive-download-20240702T074649Z-001/2. 경제 및 시장 분석/[한인도관계][주인도대사관][2023.07.26]경제동향 보고(인도)_2023_상반기_최종(외부).pdf.pdf\n",
      "/Users/munseunghyeon/Downloads/big_project/drive-download-20240702T074649Z-001/2. 경제 및 시장 분석/[한인도관계][주인도대사관][2023.01.00]한인도_경제동향.pdf\n",
      "/Users/munseunghyeon/Downloads/big_project/drive-download-20240702T074649Z-001/5. 펫산업/[인도_펫산업_시장분석][ECB(European chemical Bulletin)][2023]An Analytical study of Preferences and Determinants for Pet Food Purchasing Decisions.pdf\n",
      "/Users/munseunghyeon/Downloads/big_project/drive-download-20240702T074649Z-001/5. 펫산업/[인도_펫산업_경쟁사분석][리서치게이트][2023]Mars_Business_Analysis.pdf\n",
      "/Users/munseunghyeon/Downloads/big_project/drive-download-20240702T074649Z-001/5. 펫산업/[인도_펫산업_시장분석][강원 수출기업 서포트][2024-04-14]인구 14억 인도의 반려동물 사랑 펫푸드 시장도 동반 성장 중.pdf\n",
      "/Users/munseunghyeon/Downloads/big_project/drive-download-20240702T074649Z-001/5. 펫산업/[인도_펫산업_시장분석][KOTRA][2024-05-17]‘인도 펫푸드 시장, 반려동물의 증가와 함께 쑥쑥 커지고 있다.pdf\n",
      "/Users/munseunghyeon/Downloads/big_project/drive-download-20240702T074649Z-001/5. 펫산업/[인도_펫산업_경쟁사분석][Asia one][2018.11.01]Drools_inroductionofdrools.pdf\n",
      "/Users/munseunghyeon/Downloads/big_project/drive-download-20240702T074649Z-001/5. 펫산업/[인도_펫산업_시장분석][AIF][2023-10-10]인도 펫케어 식품 시장 동향.pdf\n",
      "/Users/munseunghyeon/Downloads/big_project/drive-download-20240702T074649Z-001/5. 펫산업/[인도_펫산업_시장분석][Pramana Research Journal][2023]A STUDY ON CUSTOMER ATTITUDES TOWARDS PET CARE AND PET INDUSTRY WITH REFERENCE TO COIMBATORE.pdf\n"
     ]
    },
    {
     "name": "stderr",
     "output_type": "stream",
     "text": [
      "Ignoring wrong pointing object 7 0 (offset 0)\n",
      "Ignoring wrong pointing object 9 0 (offset 0)\n",
      "Ignoring wrong pointing object 11 0 (offset 0)\n",
      "Ignoring wrong pointing object 17 0 (offset 0)\n",
      "Ignoring wrong pointing object 19 0 (offset 0)\n",
      "Ignoring wrong pointing object 21 0 (offset 0)\n",
      "Ignoring wrong pointing object 31 0 (offset 0)\n",
      "Ignoring wrong pointing object 38 0 (offset 0)\n",
      "Ignoring wrong pointing object 138 0 (offset 0)\n",
      "Ignoring wrong pointing object 142 0 (offset 0)\n",
      "Ignoring wrong pointing object 146 0 (offset 0)\n",
      "Ignoring wrong pointing object 151 0 (offset 0)\n",
      "Ignoring wrong pointing object 208 0 (offset 0)\n",
      "Ignoring wrong pointing object 6 0 (offset 0)\n",
      "Ignoring wrong pointing object 8 0 (offset 0)\n",
      "Ignoring wrong pointing object 11 0 (offset 0)\n",
      "Ignoring wrong pointing object 13 0 (offset 0)\n",
      "Ignoring wrong pointing object 15 0 (offset 0)\n"
     ]
    },
    {
     "name": "stdout",
     "output_type": "stream",
     "text": [
      "/Users/munseunghyeon/Downloads/big_project/drive-download-20240702T074649Z-001/4. 컨퍼런스 및 박람회, 전시회/[Festival][wikipedia]Pet_Fed_India.pdf\n",
      "/Users/munseunghyeon/Downloads/big_project/drive-download-20240702T074649Z-001/4. 컨퍼런스 및 박람회, 전시회/[Festival_Conference]Festival_Conference_list.pdf\n",
      "/Users/munseunghyeon/Downloads/big_project/drive-download-20240702T074649Z-001/3. 정책 및 무역/[정책][KOTRA][2024.06.05]2024 인도 총선 결과 및 시사점.pdf\n",
      "/Users/munseunghyeon/Downloads/big_project/drive-download-20240702T074649Z-001/3. 정책 및 무역/[한인도관계][주인도대사관][2024.04.26]인도경제소식지.pdf.pdf\n",
      "/Users/munseunghyeon/Downloads/big_project/drive-download-20240702T074649Z-001/3. 정책 및 무역/[법률_규범_특허]인도 수출입통관절차 및 유의사항(리플렛용).pdf\n",
      "/Users/munseunghyeon/Downloads/big_project/drive-download-20240702T074649Z-001/3. 정책 및 무역/[한·인도 경제관계][인도대사관][2023-02-06] 2023-24년 인도 정부예산(안) 현황.pdf\n",
      "/Users/munseunghyeon/Downloads/big_project/drive-download-20240702T074649Z-001/3. 정책 및 무역/[한인도관계][주인도대사관][2022.08.09]2023_상반기_교역_및_투자_동향.pdf\n",
      "/Users/munseunghyeon/Downloads/big_project/drive-download-20240702T074649Z-001/3. 정책 및 무역/[법률_규범_특허][대한무역투자진흥공사][20230101]국제비즈니스관련+용어정리.pdf\n",
      "/Users/munseunghyeon/Downloads/big_project/drive-download-20240702T074649Z-001/3. 정책 및 무역/[정책][제약산업정보포털][2019.04.08]인도 통관 및 운송.pdf\n",
      "/Users/munseunghyeon/Downloads/big_project/drive-download-20240702T074649Z-001/3. 정책 및 무역/[한인도관계][주인도대사관][2023.02.13]2022년_하반기_교역_및_투자동향.pdf\n",
      "/Users/munseunghyeon/Downloads/big_project/drive-download-20240702T074649Z-001/1. 법률 및 규제/[법률][연합뉴스][2018.07.05] 동물도 인간 같은 권리 존재(인도 법원 결정).pdf\n",
      "/Users/munseunghyeon/Downloads/big_project/drive-download-20240702T074649Z-001/1. 법률 및 규제/[법률_규범_특허][인도표준국][2018]BIS_Conformity_Assessment_Regulation.pdf\n",
      "/Users/munseunghyeon/Downloads/big_project/drive-download-20240702T074649Z-001/1. 법률 및 규제/[법률_규범_특허][인도표준국][2019]Pet food for dogs and cats_Specification.pdf\n",
      "/Users/munseunghyeon/Downloads/big_project/drive-download-20240702T074649Z-001/1. 법률 및 규제/[법률_규범_특허][FSSAI][2019]Food Safety and Standards Authority of India.pdf\n",
      "/Users/munseunghyeon/Downloads/big_project/drive-download-20240702T074649Z-001/1. 법률 및 규제/[법률][Sanitary Import Permit System for Livestock Products][2024]Function of Trade Unit(인도의 가축 및 가축 제품의 수입 절차와 관련된 정책 및 법률).pdf\n",
      "/Users/munseunghyeon/Downloads/big_project/drive-download-20240702T074649Z-001/1. 법률 및 규제/Forms/[법률][Sanitary Import Permit System for Livestock Products][2024] Trading & Marketing 신청 양식.pdf\n"
     ]
    }
   ],
   "source": [
    "import glob\n",
    "import os\n",
    "import pandas as pd\n",
    "\n",
    "\n",
    "def list_all_files(directory):\n",
    "    \"\"\"\n",
    "    This function takes a directory path and returns a list of all files in that directory and its subdirectories\n",
    "    using glob.\n",
    "    \"\"\"\n",
    "    # Using ** pattern to match files in all subdirectories\n",
    "    pattern = os.path.join(directory, '**', '*')\n",
    "    # glob.glob with recursive=True to match files recursively\n",
    "    all_files = [f for f in glob.glob(pattern, recursive=True) if os.path.isfile(f)]\n",
    "    return all_files\n",
    "\n",
    "# Example usage:\n",
    "directory_path = \"/Users/munseunghyeon/Downloads/big_project/drive-download-20240702T074649Z-001\"  # Replace this with the path to your directory\n",
    "all_files = list_all_files(directory_path)\n",
    "\n",
    "# Print all file names\n",
    "for file in all_files:\n",
    "    print(file)\n",
    "    loader = PyPDFLoader(file, extract_images=False)\n",
    "    pages = loader.load()\n",
    "    content = []\n",
    "    source = []\n",
    "    category = []\n",
    "    page_no = []\n",
    "    for page in pages :\n",
    "        content.append(page.page_content)\n",
    "        source.append(page.metadata['source'].split(\"/\")[-1])\n",
    "        category.append(file.split(\"/\")[-2])\n",
    "        page_no.append(page.metadata['page'])\n",
    "    pd.DataFrame({'source' : source, 'content' : content, \"category\" : category, \"page_no\" : page_no}).to_csv(file.split(\"/\")[-1]+\".csv\")\n",
    "\n"
   ]
  },
  {
   "cell_type": "code",
   "execution_count": 14,
   "metadata": {},
   "outputs": [
    {
     "data": {
      "text/html": [
       "<div>\n",
       "<style scoped>\n",
       "    .dataframe tbody tr th:only-of-type {\n",
       "        vertical-align: middle;\n",
       "    }\n",
       "\n",
       "    .dataframe tbody tr th {\n",
       "        vertical-align: top;\n",
       "    }\n",
       "\n",
       "    .dataframe thead th {\n",
       "        text-align: right;\n",
       "    }\n",
       "</style>\n",
       "<table border=\"1\" class=\"dataframe\">\n",
       "  <thead>\n",
       "    <tr style=\"text-align: right;\">\n",
       "      <th></th>\n",
       "      <th>Unnamed: 0</th>\n",
       "      <th>source</th>\n",
       "      <th>content</th>\n",
       "      <th>category</th>\n",
       "      <th>page_no</th>\n",
       "    </tr>\n",
       "  </thead>\n",
       "  <tbody>\n",
       "    <tr>\n",
       "      <th>0</th>\n",
       "      <td>0</td>\n",
       "      <td>[한인도관계][주인도대사관][2023.01.00]한...</td>\n",
       "      <td>1&lt;경제 동향 요약&gt;\\n❑ 2023년 상반기 對인도 교역규모 119억 달러(전년동기...</td>\n",
       "      <td>2. 경제 및 시장 분석</td>\n",
       "      <td>0</td>\n",
       "    </tr>\n",
       "    <tr>\n",
       "      <th>1</th>\n",
       "      <td>1</td>\n",
       "      <td>[한인도관계][주인도대사관][2023.01.00]한...</td>\n",
       "      <td>32023상반기대인도주요수출품목동향(백만달러,전년동기비%)\\n구\\n분품목명 금액 증...</td>\n",
       "      <td>2. 경제 및 시장 분석</td>\n",
       "      <td>1</td>\n",
       "    </tr>\n",
       "    <tr>\n",
       "      <th>2</th>\n",
       "      <td>2</td>\n",
       "      <td>[한인도관계][주인도대사관][2023.01.00]한...</td>\n",
       "      <td>5한국의對인도투자현황(건수,백만달러)\\n연도2014201520162017201820...</td>\n",
       "      <td>2. 경제 및 시장 분석</td>\n",
       "      <td>2</td>\n",
       "    </tr>\n",
       "  </tbody>\n",
       "</table>\n",
       "</div>"
      ],
      "text/plain": [
       "   Unnamed: 0                                             source  \\\n",
       "0           0  [한인도관계][주인도대사관][2023.01.00]한...   \n",
       "1           1  [한인도관계][주인도대사관][2023.01.00]한...   \n",
       "2           2  [한인도관계][주인도대사관][2023.01.00]한...   \n",
       "\n",
       "                                             content  \\\n",
       "0  1<경제 동향 요약>\\n❑ 2023년 상반기 對인도 교역규모 119억 달러(전년동기...   \n",
       "1  32023상반기대인도주요수출품목동향(백만달러,전년동기비%)\\n구\\n분품목명 금액 증...   \n",
       "2  5한국의對인도투자현황(건수,백만달러)\\n연도2014201520162017201820...   \n",
       "\n",
       "                    category  page_no  \n",
       "0  2. 경제 및 시장 분석        0  \n",
       "1  2. 경제 및 시장 분석        1  \n",
       "2  2. 경제 및 시장 분석        2  "
      ]
     },
     "execution_count": 14,
     "metadata": {},
     "output_type": "execute_result"
    }
   ],
   "source": [
    "pd.read_csv(\"[한인도관계][주인도대사관][2023.01.00]한인도_경제동향.pdf.csv\")#.head(2)['source'][0]"
   ]
  },
  {
   "cell_type": "code",
   "execution_count": null,
   "metadata": {},
   "outputs": [],
   "source": []
  }
 ],
 "metadata": {
  "kernelspec": {
   "display_name": "qa_system",
   "language": "python",
   "name": "python3"
  },
  "language_info": {
   "codemirror_mode": {
    "name": "ipython",
    "version": 3
   },
   "file_extension": ".py",
   "mimetype": "text/x-python",
   "name": "python",
   "nbconvert_exporter": "python",
   "pygments_lexer": "ipython3",
   "version": "3.11.9"
  }
 },
 "nbformat": 4,
 "nbformat_minor": 2
}
